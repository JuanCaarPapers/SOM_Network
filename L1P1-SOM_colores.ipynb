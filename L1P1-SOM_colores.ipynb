{
 "cells": [
  {
   "cell_type": "markdown",
   "metadata": {},
   "source": [
    "# Práctica 1 - Self-Organising Maps - COLORES\n",
    "## Preparación de entorno\n",
    "#### Importar librerías de código"
   ]
  },
  {
   "cell_type": "code",
   "execution_count": 131,
   "metadata": {
    "ExecuteTime": {
     "start_time": "2023-04-27T17:17:23.508788Z",
     "end_time": "2023-04-27T17:17:23.514293Z"
    }
   },
   "outputs": [],
   "source": [
    "\n",
    "# from __future__ import division\n",
    "\n",
    "import numpy as np\n",
    "from matplotlib import pyplot as plt\n",
    "from matplotlib import patches as patches\n",
    "\n",
    "%matplotlib inline"
   ]
  },
  {
   "cell_type": "markdown",
   "metadata": {},
   "source": [
    "\n",
    "#### Dataset que se va a utilizar para el entrenamiento"
   ]
  },
  {
   "cell_type": "code",
   "execution_count": 119,
   "metadata": {
    "collapsed": true,
    "ExecuteTime": {
     "start_time": "2023-04-27T17:13:09.565507Z",
     "end_time": "2023-04-27T17:13:09.610810Z"
    }
   },
   "outputs": [
    {
     "data": {
      "text/plain": "<Figure size 640x480 with 1 Axes>",
      "image/png": "[encoded data removed]"
     },
     "metadata": {},
     "output_type": "display_data"
    }
   ],
   "source": [
    "# Código para obtener el Dataset que se va a usar en el entrenamiento\n",
    "datos = np.random.randint(0, 256, (3, 100))\n",
    "#Vamos a monstrar los datos, primero creamos una matriz 10x10 con la traspuesta de datos, matplotlib usa enteros sin signo de 8 bits por lo que\n",
    "#usaremos uint8.\n",
    "matriz_colores = datos.T.reshape(10,10,3).astype(np.uint8)\n",
    "#Ahora mostramos la matriz\n",
    "plt.imshow(matriz_colores)\n",
    "plt.show()"
   ]
  },
  {
   "cell_type": "markdown",
   "metadata": {},
   "source": [
    "## SOM Setup\n",
    "#### Variables definidas por el alumno"
   ]
  },
  {
   "cell_type": "code",
   "execution_count": 120,
   "metadata": {
    "collapsed": true,
    "ExecuteTime": {
     "start_time": "2023-04-27T17:13:09.611428Z",
     "end_time": "2023-04-27T17:13:09.613621Z"
    }
   },
   "outputs": [],
   "source": [
    "# Inicializa tamaño del mapa de Kohonen, número de iteraciones y learning rate\n",
    "# Inicializa normalizar_datos dependiendo de si tienes que normalizar los datos o no\n",
    "lado_mapa = 10\n",
    "periodo = 100\n",
    "learning_rate = 0.05\n",
    "normalizar_datos = True"
   ]
  },
  {
   "cell_type": "markdown",
   "metadata": {},
   "source": [
    "#### A partir de este punto solo hay cálculos. No se introducen más valores \"a mano\""
   ]
  },
  {
   "cell_type": "code",
   "execution_count": 121,
   "metadata": {
    "collapsed": true,
    "ExecuteTime": {
     "start_time": "2023-04-27T17:13:09.616079Z",
     "end_time": "2023-04-27T17:13:09.617484Z"
    }
   },
   "outputs": [],
   "source": [
    "# Establece el numero de entradas del mapa y el número de datos que se van a usar para entrenar. \n",
    "# Utiliza una función que obtenga automáticamente los valores a partir del Dataset.\n",
    "num_entradas = datos.shape[0]\n",
    "num_datos = datos.shape[1]\n",
    "\n",
    "# Calcula el vecindario inicial. Debe ser la mitad del lado del mapa de Kohonen\n",
    "vecindario_ini = int(lado_mapa/2)\n",
    "\n",
    "# Normaliza los datos si fuese necesario dividiendo cada dato por el máximo en la matriz\n",
    "#En el caso de los colores, cada canal de color (rojo, verde, azul) puede tener valores entre 0 y 255. Si no normalizamos los datos, el\n",
    "#valor de cada canal de color dominará el resultado del algoritmo de aprendizaje sin importar el valor relativo de los otros canales.\n",
    "if normalizar_datos:\n",
    "    datos = datos / 255\n",
    "else:\n",
    "    datos = datos\n",
    "\n",
    "# Crea una matriz de pesos con valores random entre 0 y 1. Usa la función random.random de la librería NumPy\n",
    "matriz_de_pesos = np.random.rand(lado_mapa, lado_mapa, num_entradas)\n",
    "\n"
   ]
  },
  {
   "cell_type": "markdown",
   "metadata": {},
   "source": [
    "#### Funciones para entrenar/clasificar"
   ]
  },
  {
   "cell_type": "code",
   "execution_count": 122,
   "metadata": {
    "collapsed": true,
    "ExecuteTime": {
     "start_time": "2023-04-27T17:13:09.617585Z",
     "end_time": "2023-04-27T17:13:09.620902Z"
    }
   },
   "outputs": [],
   "source": [
    "# Función para encontrar la BMU\n",
    "\"\"\"\n",
    "   Encuentra la BMU para un patrón de entrada.\n",
    "   Entradas: (patrón_de_entrada, matriz_de_pesos, número_de_entradas)\n",
    "   Salidas:  (bmu, bmu_idx) tupla donde\n",
    "               bmu: vector de pesos de la neurona ganadora\n",
    "               bum_idx: coordenadas de la neurona ganadora\n",
    "\"\"\"\n",
    "def encontrar_bmu(patron_de_entrada, matriz_de_pesos, num_entradas):\n",
    "    # Inicializar la distancia mínima y la posición de la BMU\n",
    "    distancia_minima = np.iinfo(np.int).max\n",
    "    bmu_idx = np.array([0, 0])\n",
    "    bmu = np.zeros(num_entradas)\n",
    "\n",
    "    # Recorrer todas las neuronas del mapa de Kohonen\n",
    "    for i in range(matriz_de_pesos.shape[0]):\n",
    "        for j in range(matriz_de_pesos.shape[1]):\n",
    "            # Calcular la distancia euclidiana al cuadrado entre el patrón de entrada y el peso de la neurona\n",
    "            distancia_cuadrada = np.sum(np.power(patron_de_entrada - matriz_de_pesos[i,j], 2))\n",
    "            # Si la distancia es menor que la distancia mínima actual, actualizar la BMU\n",
    "            if distancia_cuadrada < distancia_minima:\n",
    "                distancia_minima = distancia_cuadrada\n",
    "                bmu_idx = np.array([i, j])\n",
    "                bmu = matriz_de_pesos[i,j]\n",
    "\n",
    "    return (bmu, bmu_idx)\n"
   ]
  },
  {
   "cell_type": "code",
   "execution_count": 123,
   "metadata": {
    "collapsed": true,
    "ExecuteTime": {
     "start_time": "2023-04-27T17:13:09.622632Z",
     "end_time": "2023-04-27T17:13:09.624324Z"
    }
   },
   "outputs": [],
   "source": [
    "# Función para calcular el descenso del coeficiente de aprendizaje (eta)\n",
    "\"\"\"\n",
    "   Calcula el Learning Rate (eta) que corresponde a la i-ésima presentación.\n",
    "   Entradas: (learning_rate_inicial, iteracion, período)\n",
    "   Salidas:  learning_rate para la iteración i\n",
    "\n",
    "\"\"\"\n",
    "def calcular_eta(learning_rate_inicial, iteracion, periodo):\n",
    "    return learning_rate_inicial * np.exp(-iteracion/periodo)\n",
    "\n",
    "#Usamos una funcion exp decreciente porque queremos que el learning rate disminuya con el tiempo, de esta forma, al principio del entrenamiento podemos ser más 'permisivos' con los pesos de las neuronas y a medida que avanza el entrenamiento, vamos siendo más 'exigentes' con los pesos de las neuronas y asegurar asi un ajuste más exacto al final.\n"
   ]
  },
  {
   "cell_type": "code",
   "execution_count": 124,
   "metadata": {
    "collapsed": true,
    "ExecuteTime": {
     "start_time": "2023-04-27T17:13:09.625747Z",
     "end_time": "2023-04-27T17:13:09.627314Z"
    }
   },
   "outputs": [],
   "source": [
    "# Función para calcular el descenso del vecindario (v)\n",
    "\"\"\"\n",
    "   Calcula el vecindario  (v) que corresponde a la i-ésima presentación.\n",
    "   Entradas: (vecindario_inicial, iteracion, período)\n",
    "   Salidas:  lvecindario para la iteración i\n",
    "\n",
    "\"\"\"\n",
    "def calcular_vecindario(vecindario_inicial, iteracion, periodo):\n",
    "    return vecindario_inicial * np.exp(-iteracion/periodo)\n",
    "#De igual manera, usamos una funcion exp para que así, al princio el vecindario sea mas grande y el radio de actualizacion sea mas grande, mientras el algoritmo avance, este vecindario será más pequeño."
   ]
  },
  {
   "cell_type": "code",
   "execution_count": 125,
   "outputs": [],
   "source": [
    "# Función para calcular el descenso del coeficiente de aprendizaje (eta) en función de la distancia a la BMU\n",
    "\"\"\"\n",
    "   Calcula la amortiguación de eta en función de la distancia en el mapa entre una neurona y la BMU.\n",
    "   Entradas: (distancia_BMU, vecindario_actual)\n",
    "   Salidas:  amortiguación para la iteración\n",
    "\n",
    "\"\"\"\n",
    "def decay(distancia_BMU, vecindario_actual):\n",
    "    return np.exp(-distancia_BMU**2 / (2*vecindario_actual**2))"
   ],
   "metadata": {
    "collapsed": false,
    "ExecuteTime": {
     "start_time": "2023-04-27T17:13:09.628415Z",
     "end_time": "2023-04-27T17:13:09.629894Z"
    }
   }
  },
  {
   "cell_type": "markdown",
   "metadata": {},
   "source": [
    "#### Funciones para dibujar la salida de la red"
   ]
  },
  {
   "cell_type": "code",
   "execution_count": 126,
   "outputs": [],
   "source": [
    "# Función para pintar una matriz de valores como colores RGB\n",
    "def pintar_mapa(matriz_valores):\n",
    "    fig = plt.figure()\n",
    "\n",
    "    #Establece ejes\n",
    "    ax = fig.add_subplot(111,aspect='equal')\n",
    "    ax.set_xlim((0, matriz_de_pesos.shape[0]+1))\n",
    "    ax.set_ylim((0, matriz_de_pesos.shape[1]+1))\n",
    "    ax.set_title('Self-Organising Map despues de %d iterations' % periodo)\n",
    "\n",
    "    #DIbuja los rectangulos de color RGB\n",
    "    for x in range(1,matriz_valores.shape[0] + 1):\n",
    "        for y in range(1,matriz_valores.shape[1] + 1):\n",
    "            ax.add_patch(patches.Rectangle((x-0.5, y-0.5), 1, 1,\n",
    "                         facecolor=matriz_valores[x-1,y-1,:],\n",
    "                         edgecolor='none'))\n",
    "    plt.show()"
   ],
   "metadata": {
    "collapsed": false,
    "ExecuteTime": {
     "start_time": "2023-04-27T17:13:09.633403Z",
     "end_time": "2023-04-27T17:13:09.652821Z"
    }
   }
  },
  {
   "cell_type": "markdown",
   "metadata": {},
   "source": [
    "## SOM Entrenamiento"
   ]
  },
  {
   "cell_type": "code",
   "execution_count": 127,
   "metadata": {
    "collapsed": true,
    "ExecuteTime": {
     "start_time": "2023-04-27T17:13:09.640605Z",
     "end_time": "2023-04-27T17:13:18.023027Z"
    }
   },
   "outputs": [
    {
     "data": {
      "text/plain": "<Figure size 640x480 with 1 Axes>",
      "image/png": "[encoded data removed]"
     },
     "metadata": {},
     "output_type": "display_data"
    },
    {
     "name": "stdout",
     "output_type": "stream",
     "text": [
      "Iteración: 0\n",
      "Iteración: 100\n",
      "Iteración: 200\n",
      "Iteración: 300\n"
     ]
    },
    {
     "name": "stderr",
     "output_type": "stream",
     "text": [
      "/var/folders/zx/qkhvjslx1jbc3lz56nx39bbc0000gn/T/ipykernel_85996/796116808.py:11: DeprecationWarning: `np.int` is a deprecated alias for the builtin `int`. To silence this warning, use `int` by itself. Doing this will not modify any behavior and is safe. When replacing `np.int`, you may wish to use e.g. `np.int64` or `np.int32` to specify the precision. If you wish to review your current use, check the release note link for additional information.\n",
      "Deprecated in NumPy 1.20; for more details and guidance: https://numpy.org/devdocs/release/1.20.0-notes.html#deprecations\n",
      "  distancia_minima = np.iinfo(np.int).max\n"
     ]
    },
    {
     "name": "stdout",
     "output_type": "stream",
     "text": [
      "Iteración: 400\n",
      "Iteración: 500\n",
      "Iteración: 600\n",
      "Iteración: 700\n",
      "Iteración: 800\n",
      "Iteración: 900\n",
      "Iteración: 1000\n",
      "Iteración: 1100\n",
      "Iteración: 1200\n",
      "Iteración: 1300\n",
      "Iteración: 1400\n",
      "Iteración: 1500\n",
      "Iteración: 1600\n",
      "Iteración: 1700\n",
      "Iteración: 1800\n",
      "Iteración: 1900\n",
      "Iteración: 2000\n",
      "Iteración: 2100\n",
      "Iteración: 2200\n",
      "Iteración: 2300\n",
      "Iteración: 2400\n",
      "Iteración: 2500\n",
      "Iteración: 2600\n",
      "Iteración: 2700\n",
      "Iteración: 2800\n",
      "Iteración: 2900\n",
      "Iteración: 3000\n",
      "Iteración: 3100\n",
      "Iteración: 3200\n",
      "Iteración: 3300\n",
      "Iteración: 3400\n",
      "Iteración: 3500\n",
      "Iteración: 3600\n",
      "Iteración: 3700\n",
      "Iteración: 3800\n",
      "Iteración: 3900\n",
      "Iteración: 4000\n",
      "Iteración: 4100\n",
      "Iteración: 4200\n",
      "Iteración: 4300\n",
      "Iteración: 4400\n",
      "Iteración: 4500\n",
      "Iteración: 4600\n",
      "Iteración: 4700\n",
      "Iteración: 4800\n",
      "Iteración: 4900\n",
      "Iteración: 5000\n",
      "Iteración: 5100\n",
      "Iteración: 5200\n",
      "Iteración: 5300\n",
      "Iteración: 5400\n",
      "Iteración: 5500\n",
      "Iteración: 5600\n",
      "Iteración: 5700\n",
      "Iteración: 5800\n",
      "Iteración: 5900\n",
      "Iteración: 6000\n",
      "Iteración: 6100\n",
      "Iteración: 6200\n",
      "Iteración: 6300\n",
      "Iteración: 6400\n",
      "Iteración: 6500\n",
      "Iteración: 6600\n",
      "Iteración: 6700\n",
      "Iteración: 6800\n",
      "Iteración: 6900\n",
      "Iteración: 7000\n",
      "Iteración: 7100\n",
      "Iteración: 7200\n",
      "Iteración: 7300\n",
      "Iteración: 7400\n",
      "Iteración: 7500\n",
      "Iteración: 7600\n",
      "Iteración: 7700\n",
      "Iteración: 7800\n",
      "Iteración: 7900\n",
      "Iteración: 8000\n",
      "Iteración: 8100\n",
      "Iteración: 8200\n",
      "Iteración: 8300\n",
      "Iteración: 8400\n",
      "Iteración: 8500\n",
      "Iteración: 8600\n",
      "Iteración: 8700\n",
      "Iteración: 8800\n",
      "Iteración: 8900\n",
      "Iteración: 9000\n",
      "Iteración: 9100\n",
      "Iteración: 9200\n",
      "Iteración: 9300\n",
      "Iteración: 9400\n",
      "Iteración: 9500\n",
      "Iteración: 9600\n",
      "Iteración: 9700\n",
      "Iteración: 9800\n",
      "Iteración: 9900\n",
      "Matriz de pesos entrenada:\n",
      "[[[0.71707096 0.80394275 0.35849937]\n",
      "  [0.65769885 0.81304792 0.41808024]\n",
      "  [0.560029   0.82546276 0.52046034]\n",
      "  [0.44005401 0.83399319 0.63542744]\n",
      "  [0.33465179 0.8303256  0.70490641]\n",
      "  [0.25791949 0.81479666 0.70050415]\n",
      "  [0.20244912 0.79418952 0.62529794]\n",
      "  [0.1631652  0.7767332  0.50669493]\n",
      "  [0.1403093  0.76707002 0.39431496]\n",
      "  [0.13078948 0.76188989 0.3189861 ]]\n",
      "\n",
      " [[0.73660828 0.78070148 0.4042018 ]\n",
      "  [0.67893792 0.78545587 0.45717651]\n",
      "  [0.583643   0.79197227 0.54572547]\n",
      "  [0.46506311 0.79534352 0.64236042]\n",
      "  [0.35827868 0.78950942 0.69721964]\n",
      "  [0.27855927 0.77354192 0.68538208]\n",
      "  [0.2210207  0.75149051 0.60852302]\n",
      "  [0.18161219 0.73060051 0.49196479]\n",
      "  [0.15968687 0.71669527 0.38255227]\n",
      "  [0.15108928 0.7077876  0.30905932]]\n",
      "\n",
      " [[0.76765305 0.73572986 0.47187731]\n",
      "  [0.71284438 0.73625314 0.51569789]\n",
      "  [0.62288427 0.73753533 0.58325079]\n",
      "  [0.50993856 0.73697498 0.65200579]\n",
      "  [0.40375775 0.73014398 0.68504885]\n",
      "  [0.31934701 0.7134705  0.66163712]\n",
      "  [0.25562558 0.68718897 0.58070852]\n",
      "  [0.21151901 0.65839855 0.46630003]\n",
      "  [0.1869326  0.6362199  0.36269591]\n",
      "  [0.17690924 0.62136023 0.29451132]]\n",
      "\n",
      " [[0.80723952 0.6651716  0.54586699]\n",
      "  [0.7559719  0.66493474 0.57774335]\n",
      "  [0.67296871 0.66554836 0.62062539]\n",
      "  [0.56841939 0.66401892 0.65862473]\n",
      "  [0.46530965 0.65546616 0.66735467]\n",
      "  [0.37617547 0.63471977 0.63004569]\n",
      "  [0.30278784 0.60112863 0.5448526 ]\n",
      "  [0.24836324 0.5639757  0.43637142]\n",
      "  [0.21571222 0.53527096 0.3442345 ]\n",
      "  [0.20036279 0.5169995  0.28590587]]\n",
      "\n",
      " [[0.8440079  0.57955024 0.59850719]\n",
      "  [0.79672317 0.58237998 0.61856318]\n",
      "  [0.7204435  0.58658941 0.64104629]\n",
      "  [0.62371202 0.58623593 0.65590377]\n",
      "  [0.52459756 0.57428102 0.6469764 ]\n",
      "  [0.43266273 0.54674798 0.60172668]\n",
      "  [0.35014942 0.50724146 0.52097382]\n",
      "  [0.28347324 0.46788883 0.42780523]\n",
      "  [0.2395079  0.43935786 0.35230498]\n",
      "  [0.21609849 0.42236531 0.3050326 ]]\n",
      "\n",
      " [[0.86748751 0.49104527 0.61168395]\n",
      "  [0.82507338 0.4958905  0.62424337]\n",
      "  [0.75531582 0.50243653 0.63684759]\n",
      "  [0.66430903 0.50289289 0.64401624]\n",
      "  [0.56763876 0.48869874 0.63388137]\n",
      "  [0.47466042 0.45874714 0.59676786]\n",
      "  [0.38767779 0.42121022 0.53457819]\n",
      "  [0.31299001 0.38712887 0.46378206]\n",
      "  [0.25947167 0.36292635 0.40445158]\n",
      "  [0.22820387 0.34870492 0.36491961]]\n",
      "\n",
      " [[0.87379755 0.39910209 0.58092972]\n",
      "  [0.83698049 0.40185407 0.59329393]\n",
      "  [0.77482478 0.40653065 0.61030305]\n",
      "  [0.69003514 0.40724192 0.63078991]\n",
      "  [0.59614365 0.39650929 0.64201847]\n",
      "  [0.50437577 0.37435235 0.6300295 ]\n",
      "  [0.41753058 0.34757723 0.59316782]\n",
      "  [0.33971904 0.32241884 0.54264072]\n",
      "  [0.27990447 0.30278597 0.49453678]\n",
      "  [0.24233428 0.29043865 0.45889855]]\n",
      "\n",
      " [[0.86532829 0.30548687 0.51469877]\n",
      "  [0.83422956 0.30544953 0.53625463]\n",
      "  [0.78110783 0.3082322  0.57283727]\n",
      "  [0.70561746 0.31173016 0.62534543]\n",
      "  [0.61836555 0.31053999 0.67320103]\n",
      "  [0.53096103 0.30227532 0.69180724]\n",
      "  [0.44603999 0.28833605 0.67675763]\n",
      "  [0.36626173 0.27118838 0.64016473]\n",
      "  [0.30124699 0.25494817 0.59907735]\n",
      "  [0.25829405 0.2435894  0.56594436]]\n",
      "\n",
      " [[0.85112063 0.22865957 0.44170733]\n",
      "  [0.82514307 0.22928133 0.4787043 ]\n",
      "  [0.78052939 0.23405449 0.54117717]\n",
      "  [0.71512399 0.24288022 0.62809781]\n",
      "  [0.63683106 0.2509793  0.70918744]\n",
      "  [0.55568564 0.25306548 0.75205905]\n",
      "  [0.4731286  0.24701074 0.75325281]\n",
      "  [0.39120619 0.23427989 0.72759815]\n",
      "  [0.32101873 0.21992029 0.69323715]\n",
      "  [0.2729544  0.2091198  0.6637623 ]]\n",
      "\n",
      " [[0.83973887 0.18179616 0.38878891]\n",
      "  [0.81752297 0.1848669  0.43904545]\n",
      "  [0.77887738 0.19295266 0.52146825]\n",
      "  [0.72090661 0.20606377 0.63183532]\n",
      "  [0.65000612 0.219058   0.73360529]\n",
      "  [0.57452513 0.22532688 0.79190065]\n",
      "  [0.49450114 0.22189204 0.80536457]\n",
      "  [0.41145461 0.21053744 0.79020868]\n",
      "  [0.33758603 0.19693588 0.76409755]\n",
      "  [0.2855429  0.18661851 0.73993898]]]\n"
     ]
    },
    {
     "data": {
      "text/plain": "<Figure size 640x480 with 1 Axes>",
      "image/png": "[encoded data removed]"
     },
     "metadata": {},
     "output_type": "display_data"
    }
   ],
   "source": [
    "# Dibuja la matriz de pesos inicial como un mapa de colores RGB\n",
    "pintar_mapa(matriz_de_pesos)\n",
    "\n",
    "# Número total de iteraciones para el entrenamiento\n",
    "num_iteraciones = periodo * num_datos\n",
    "\n",
    "for iteracion in range(num_iteraciones):\n",
    "    # Imprimir el número de iteración cada 100 iteraciones\n",
    "    if iteracion % 100 == 0:\n",
    "        print(\"Iteración:\", iteracion)\n",
    "\n",
    "    # Seleccionar un patrón al azar del dataset y hacer un reshape\n",
    "    indice_aleatorio = np.random.randint(0, num_datos)\n",
    "    patron_de_entrada = datos[:, indice_aleatorio].reshape(num_entradas)\n",
    "\n",
    "    # Buscar la BMU\n",
    "    bmu, bmu_idx = encontrar_bmu(patron_de_entrada, matriz_de_pesos, num_entradas)\n",
    "\n",
    "    # Calcular los parámetros para esta iteración (eta y vecindario)\n",
    "    eta = calcular_eta(learning_rate, iteracion, num_iteraciones)\n",
    "    vecindario_actual = calcular_vecindario(vecindario_ini, iteracion, num_iteraciones)\n",
    "\n",
    "    # Actualizar la matriz de pesos\n",
    "    for x in range(matriz_de_pesos.shape[0]):\n",
    "        for y in range(matriz_de_pesos.shape[1]):\n",
    "            delta_peso = eta * decay(np.linalg.norm([x - bmu_idx[0], y - bmu_idx[1]]), vecindario_actual) * (patron_de_entrada - matriz_de_pesos[x, y])\n",
    "            matriz_de_pesos[x, y] += delta_peso\n",
    "\n",
    "# Imprimir la matriz de pesos entrenada\n",
    "print(\"Matriz de pesos entrenada:\")\n",
    "print(matriz_de_pesos)\n",
    "\n",
    "# Dibujar el mapa de colores RGB de la matriz de pesos entrenados\n",
    "pintar_mapa(matriz_de_pesos)"
   ]
  },
  {
   "cell_type": "markdown",
   "metadata": {},
   "source": [
    "## SOM Clasificación"
   ]
  },
  {
   "cell_type": "code",
   "execution_count": 130,
   "metadata": {
    "collapsed": true,
    "ExecuteTime": {
     "start_time": "2023-04-27T17:13:23.603333Z",
     "end_time": "2023-04-27T17:13:23.938464Z"
    }
   },
   "outputs": [
    {
     "name": "stdout",
     "output_type": "stream",
     "text": [
      "Coordenadas (x, y) de la BMU para el patrón 0: (7, 9)\n",
      "Coordenadas (x, y) de la BMU para el patrón 1: (5, 0)\n",
      "Coordenadas (x, y) de la BMU para el patrón 2: (9, 5)\n",
      "Coordenadas (x, y) de la BMU para el patrón 3: (7, 6)\n",
      "Coordenadas (x, y) de la BMU para el patrón 4: (1, 9)\n",
      "Coordenadas (x, y) de la BMU para el patrón 5: (5, 6)\n",
      "Coordenadas (x, y) de la BMU para el patrón 6: (5, 6)\n",
      "Coordenadas (x, y) de la BMU para el patrón 7: (0, 9)\n",
      "Coordenadas (x, y) de la BMU para el patrón 8: (0, 0)\n",
      "Coordenadas (x, y) de la BMU para el patrón 9: (4, 2)\n",
      "Coordenadas (x, y) de la BMU para el patrón 10: (1, 5)\n",
      "Coordenadas (x, y) de la BMU para el patrón 11: (3, 9)\n",
      "Coordenadas (x, y) de la BMU para el patrón 12: (0, 8)\n",
      "Coordenadas (x, y) de la BMU para el patrón 13: (4, 9)\n",
      "Coordenadas (x, y) de la BMU para el patrón 14: (9, 7)\n",
      "Coordenadas (x, y) de la BMU para el patrón 15: (6, 0)\n",
      "Coordenadas (x, y) de la BMU para el patrón 16: (5, 4)\n",
      "Coordenadas (x, y) de la BMU para el patrón 17: (2, 7)\n",
      "Coordenadas (x, y) de la BMU para el patrón 18: (9, 0)\n",
      "Coordenadas (x, y) de la BMU para el patrón 19: (6, 0)\n",
      "Coordenadas (x, y) de la BMU para el patrón 20: (9, 5)\n",
      "Coordenadas (x, y) de la BMU para el patrón 21: (9, 0)\n",
      "Coordenadas (x, y) de la BMU para el patrón 22: (0, 0)\n",
      "Coordenadas (x, y) de la BMU para el patrón 23: (8, 7)\n",
      "Coordenadas (x, y) de la BMU para el patrón 24: (2, 0)\n",
      "Coordenadas (x, y) de la BMU para el patrón 25: (0, 4)\n",
      "Coordenadas (x, y) de la BMU para el patrón 26: (0, 5)\n",
      "Coordenadas (x, y) de la BMU para el patrón 27: (3, 1)\n",
      "Coordenadas (x, y) de la BMU para el patrón 28: (4, 3)\n",
      "Coordenadas (x, y) de la BMU para el patrón 29: (9, 1)\n",
      "Coordenadas (x, y) de la BMU para el patrón 30: (0, 5)\n",
      "Coordenadas (x, y) de la BMU para el patrón 31: (7, 6)\n",
      "Coordenadas (x, y) de la BMU para el patrón 32: (9, 9)\n",
      "Coordenadas (x, y) de la BMU para el patrón 33: (6, 7)\n",
      "Coordenadas (x, y) de la BMU para el patrón 34: (9, 5)\n",
      "Coordenadas (x, y) de la BMU para el patrón 35: (0, 5)\n",
      "Coordenadas (x, y) de la BMU para el patrón 36: (0, 5)\n",
      "Coordenadas (x, y) de la BMU para el patrón 37: (4, 9)\n",
      "Coordenadas (x, y) de la BMU para el patrón 38: (5, 9)\n",
      "Coordenadas (x, y) de la BMU para el patrón 39: (9, 5)\n",
      "Coordenadas (x, y) de la BMU para el patrón 40: (2, 0)\n",
      "Coordenadas (x, y) de la BMU para el patrón 41: (6, 0)\n",
      "Coordenadas (x, y) de la BMU para el patrón 42: (4, 1)\n",
      "Coordenadas (x, y) de la BMU para el patrón 43: (0, 0)\n",
      "Coordenadas (x, y) de la BMU para el patrón 44: (8, 9)\n",
      "Coordenadas (x, y) de la BMU para el patrón 45: (9, 1)\n",
      "Coordenadas (x, y) de la BMU para el patrón 46: (2, 0)\n",
      "Coordenadas (x, y) de la BMU para el patrón 47: (4, 3)\n",
      "Coordenadas (x, y) de la BMU para el patrón 48: (9, 1)\n",
      "Coordenadas (x, y) de la BMU para el patrón 49: (0, 9)\n",
      "Coordenadas (x, y) de la BMU para el patrón 50: (4, 2)\n",
      "Coordenadas (x, y) de la BMU para el patrón 51: (4, 7)\n",
      "Coordenadas (x, y) de la BMU para el patrón 52: (9, 7)\n",
      "Coordenadas (x, y) de la BMU para el patrón 53: (0, 9)\n",
      "Coordenadas (x, y) de la BMU para el patrón 54: (4, 9)\n",
      "Coordenadas (x, y) de la BMU para el patrón 55: (9, 9)\n",
      "Coordenadas (x, y) de la BMU para el patrón 56: (0, 9)\n",
      "Coordenadas (x, y) de la BMU para el patrón 57: (9, 3)\n",
      "Coordenadas (x, y) de la BMU para el patrón 58: (7, 9)\n",
      "Coordenadas (x, y) de la BMU para el patrón 59: (3, 4)\n",
      "Coordenadas (x, y) de la BMU para el patrón 60: (9, 8)\n",
      "Coordenadas (x, y) de la BMU para el patrón 61: (1, 8)\n",
      "Coordenadas (x, y) de la BMU para el patrón 62: (0, 0)\n",
      "Coordenadas (x, y) de la BMU para el patrón 63: (9, 7)\n",
      "Coordenadas (x, y) de la BMU para el patrón 64: (8, 2)\n",
      "Coordenadas (x, y) de la BMU para el patrón 65: (0, 0)\n",
      "Coordenadas (x, y) de la BMU para el patrón 66: (0, 7)\n",
      "Coordenadas (x, y) de la BMU para el patrón 67: (6, 6)\n",
      "Coordenadas (x, y) de la BMU para el patrón 68: (2, 3)\n",
      "Coordenadas (x, y) de la BMU para el patrón 69: (0, 0)\n",
      "Coordenadas (x, y) de la BMU para el patrón 70: (5, 0)\n",
      "Coordenadas (x, y) de la BMU para el patrón 71: (3, 9)\n",
      "Coordenadas (x, y) de la BMU para el patrón 72: (9, 0)\n",
      "Coordenadas (x, y) de la BMU para el patrón 73: (9, 5)\n",
      "Coordenadas (x, y) de la BMU para el patrón 74: (3, 4)\n",
      "Coordenadas (x, y) de la BMU para el patrón 75: (6, 3)\n",
      "Coordenadas (x, y) de la BMU para el patrón 76: (6, 9)\n",
      "Coordenadas (x, y) de la BMU para el patrón 77: (2, 0)\n",
      "Coordenadas (x, y) de la BMU para el patrón 78: (9, 0)\n",
      "Coordenadas (x, y) de la BMU para el patrón 79: (4, 0)\n",
      "Coordenadas (x, y) de la BMU para el patrón 80: (5, 0)\n",
      "Coordenadas (x, y) de la BMU para el patrón 81: (0, 9)\n",
      "Coordenadas (x, y) de la BMU para el patrón 82: (1, 4)\n",
      "Coordenadas (x, y) de la BMU para el patrón 83: (9, 3)\n",
      "Coordenadas (x, y) de la BMU para el patrón 84: (4, 9)\n",
      "Coordenadas (x, y) de la BMU para el patrón 85: (3, 0)\n",
      "Coordenadas (x, y) de la BMU para el patrón 86: (9, 0)\n",
      "Coordenadas (x, y) de la BMU para el patrón 87: (0, 2)\n",
      "Coordenadas (x, y) de la BMU para el patrón 88: (3, 8)\n",
      "Coordenadas (x, y) de la BMU para el patrón 89: (3, 5)\n",
      "Coordenadas (x, y) de la BMU para el patrón 90: (9, 2)\n",
      "Coordenadas (x, y) de la BMU para el patrón 91: (0, 3)\n",
      "Coordenadas (x, y) de la BMU para el patrón 92: (3, 4)\n",
      "Coordenadas (x, y) de la BMU para el patrón 93: (0, 4)\n",
      "Coordenadas (x, y) de la BMU para el patrón 94: (1, 6)\n",
      "Coordenadas (x, y) de la BMU para el patrón 95: (5, 9)\n",
      "Coordenadas (x, y) de la BMU para el patrón 96: (9, 4)\n",
      "Coordenadas (x, y) de la BMU para el patrón 97: (0, 1)\n",
      "Coordenadas (x, y) de la BMU para el patrón 98: (0, 5)\n",
      "Coordenadas (x, y) de la BMU para el patrón 99: (0, 1)\n",
      "Número de clases: 52\n"
     ]
    },
    {
     "name": "stderr",
     "output_type": "stream",
     "text": [
      "/var/folders/zx/qkhvjslx1jbc3lz56nx39bbc0000gn/T/ipykernel_85996/796116808.py:11: DeprecationWarning: `np.int` is a deprecated alias for the builtin `int`. To silence this warning, use `int` by itself. Doing this will not modify any behavior and is safe. When replacing `np.int`, you may wish to use e.g. `np.int64` or `np.int32` to specify the precision. If you wish to review your current use, check the release note link for additional information.\n",
      "Deprecated in NumPy 1.20; for more details and guidance: https://numpy.org/devdocs/release/1.20.0-notes.html#deprecations\n",
      "  distancia_minima = np.iinfo(np.int).max\n"
     ]
    },
    {
     "data": {
      "text/plain": "<Figure size 640x480 with 1 Axes>",
      "image/png": "[encoded data removed]"
     },
     "metadata": {},
     "output_type": "display_data"
    },
    {
     "data": {
      "text/plain": "<Figure size 640x480 with 2 Axes>",
      "image/png": "[encoded data removed]"
     },
     "metadata": {},
     "output_type": "display_data"
    },
    {
     "data": {
      "text/plain": "<Figure size 640x480 with 2 Axes>",
      "image/png": "[encoded data removed]"
     },
     "metadata": {},
     "output_type": "display_data"
    },
    {
     "name": "stdout",
     "output_type": "stream",
     "text": [
      "Error de Cuantificación: 0.1634146085319208\n",
      "Error Topológico: 0.09711775326639646\n"
     ]
    }
   ],
   "source": [
    "# Definir e inicializar las matrices\n",
    "mapa_clasificacion = np.zeros((lado_mapa, lado_mapa, num_entradas))\n",
    "mapa_activaciones = np.zeros((lado_mapa, lado_mapa))\n",
    "mapa_distancias = np.zeros((lado_mapa, lado_mapa))\n",
    "\n",
    "# Clasificar el conjunto de datos de patrones\n",
    "for i in range(num_datos):\n",
    "    patron_de_entrada = datos[:, i].reshape(num_entradas)\n",
    "    bmu, bmu_idx = encontrar_bmu(patron_de_entrada, matriz_de_pesos, num_entradas)\n",
    "\n",
    "    x, y = bmu_idx\n",
    "    print(f\"Coordenadas (x, y) de la BMU para el patrón {i}: ({x}, {y})\")\n",
    "\n",
    "    # Actualizar las matrices\n",
    "    mapa_clasificacion[x, y] += patron_de_entrada\n",
    "    mapa_activaciones[x, y] += 1\n",
    "    mapa_distancias[x, y] += np.linalg.norm(patron_de_entrada - matriz_de_pesos[x, y])\n",
    "\n",
    "# Calcular el número de clases\n",
    "num_clases = np.count_nonzero(mapa_activaciones)\n",
    "print(\"Número de clases:\", num_clases)\n",
    "\n",
    "# Calcular y dibujar los mapas de clasificación (colores RGB), activaciones y distancias\n",
    "for x in range(lado_mapa):\n",
    "    for y in range(lado_mapa):\n",
    "        if mapa_activaciones[x, y] > 0:\n",
    "            mapa_clasificacion[x, y] /= mapa_activaciones[x, y]\n",
    "            mapa_distancias[x, y] /= mapa_activaciones[x, y]\n",
    "\n",
    "pintar_mapa(mapa_clasificacion)\n",
    "\n",
    "plt.imshow(mapa_activaciones, cmap='viridis')\n",
    "plt.title(\"Mapa de activaciones\")\n",
    "plt.colorbar()\n",
    "plt.show()\n",
    "\n",
    "plt.imshow(mapa_distancias, cmap='viridis')\n",
    "plt.title(\"Mapa de distancias\")\n",
    "plt.colorbar()\n",
    "plt.show()\n",
    "\n",
    "# Calcular la distancia media del mapa (Error de Cuantificación) y el Error Topológico del mapa\n",
    "error_cuantificacion = np.sum(mapa_distancias) / num_clases\n",
    "print(\"Error de Cuantificación:\", error_cuantificacion)\n",
    "\n",
    "error_topologico = 0\n",
    "for i in range(num_datos):\n",
    "    patron_de_entrada = datos[:, i].reshape(num_entradas)\n",
    "    bmu, bmu_idx = encontrar_bmu(patron_de_entrada, matriz_de_pesos, num_entradas)\n",
    "\n",
    "    vecinos = [(bmu_idx[0] + i, bmu_idx[1] + j) for i in range(-1, 2) for j in range(-1, 2) if 0 <= bmu_idx[0] + i < lado_mapa and 0 <= bmu_idx[1] + j < lado_mapa]\n",
    "    vecinos.remove(tuple(bmu_idx))\n",
    "\n",
    "    error_vecinos = 0\n",
    "    for x, y in vecinos:\n",
    "        error_vecinos += np.linalg.norm(matriz_de_pesos[x, y] - matriz_de_pesos[bmu_idx[0], bmu_idx[1]])\n",
    "\n",
    "    error_topologico += error_vecinos / len(vecinos)\n",
    "\n",
    "error_topologico /= num_datos\n",
    "print(\"Error Topológico:\", error_topologico)\n"
   ]
  }
 ],
 "metadata": {
  "anaconda-cloud": {},
  "kernelspec": {
   "display_name": "Python 3",
   "language": "python",
   "name": "python3"
  },
  "language_info": {
   "codemirror_mode": {
    "name": "ipython",
    "version": 3
   },
   "file_extension": ".py",
   "mimetype": "text/x-python",
   "name": "python",
   "nbconvert_exporter": "python",
   "pygments_lexer": "ipython3",
   "version": "3.6.3"
  }
 },
 "nbformat": 4,
 "nbformat_minor": 2
}
